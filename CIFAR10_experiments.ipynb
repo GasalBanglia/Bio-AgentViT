{
 "cells": [
  {
   "cell_type": "code",
   "execution_count": 1,
   "metadata": {},
   "outputs": [
    {
     "name": "stdout",
     "output_type": "stream",
     "text": [
      "Requirement already satisfied: einops in /home/pdm2570/.conda/envs/tf_gpu/lib/python3.11/site-packages (0.8.0)\n",
      "Requirement already satisfied: vit_pytorch in /home/pdm2570/.conda/envs/tf_gpu/lib/python3.11/site-packages (1.9.1)\n",
      "Requirement already satisfied: einops>=0.7.0 in /home/pdm2570/.conda/envs/tf_gpu/lib/python3.11/site-packages (from vit_pytorch) (0.8.0)\n",
      "Requirement already satisfied: torch>=1.10 in /home/pdm2570/.conda/envs/tf_gpu/lib/python3.11/site-packages (from vit_pytorch) (2.5.1)\n",
      "Requirement already satisfied: torchvision in /home/pdm2570/.conda/envs/tf_gpu/lib/python3.11/site-packages (from vit_pytorch) (0.20.1)\n",
      "Requirement already satisfied: filelock in /home/pdm2570/.conda/envs/tf_gpu/lib/python3.11/site-packages (from torch>=1.10->vit_pytorch) (3.16.1)\n",
      "Requirement already satisfied: typing-extensions>=4.8.0 in /home/pdm2570/.conda/envs/tf_gpu/lib/python3.11/site-packages (from torch>=1.10->vit_pytorch) (4.12.2)\n",
      "Requirement already satisfied: networkx in /home/pdm2570/.conda/envs/tf_gpu/lib/python3.11/site-packages (from torch>=1.10->vit_pytorch) (3.4.2)\n",
      "Requirement already satisfied: jinja2 in /home/pdm2570/.conda/envs/tf_gpu/lib/python3.11/site-packages (from torch>=1.10->vit_pytorch) (3.1.4)\n",
      "Requirement already satisfied: fsspec in /home/pdm2570/.conda/envs/tf_gpu/lib/python3.11/site-packages (from torch>=1.10->vit_pytorch) (2024.6.1)\n",
      "Requirement already satisfied: nvidia-cuda-nvrtc-cu12==12.4.127 in /home/pdm2570/.conda/envs/tf_gpu/lib/python3.11/site-packages (from torch>=1.10->vit_pytorch) (12.4.127)\n",
      "Requirement already satisfied: nvidia-cuda-runtime-cu12==12.4.127 in /home/pdm2570/.conda/envs/tf_gpu/lib/python3.11/site-packages (from torch>=1.10->vit_pytorch) (12.4.127)\n",
      "Requirement already satisfied: nvidia-cuda-cupti-cu12==12.4.127 in /home/pdm2570/.conda/envs/tf_gpu/lib/python3.11/site-packages (from torch>=1.10->vit_pytorch) (12.4.127)\n",
      "Requirement already satisfied: nvidia-cudnn-cu12==9.1.0.70 in /home/pdm2570/.conda/envs/tf_gpu/lib/python3.11/site-packages (from torch>=1.10->vit_pytorch) (9.1.0.70)\n",
      "Requirement already satisfied: nvidia-cublas-cu12==12.4.5.8 in /home/pdm2570/.conda/envs/tf_gpu/lib/python3.11/site-packages (from torch>=1.10->vit_pytorch) (12.4.5.8)\n",
      "Requirement already satisfied: nvidia-cufft-cu12==11.2.1.3 in /home/pdm2570/.conda/envs/tf_gpu/lib/python3.11/site-packages (from torch>=1.10->vit_pytorch) (11.2.1.3)\n",
      "Requirement already satisfied: nvidia-curand-cu12==10.3.5.147 in /home/pdm2570/.conda/envs/tf_gpu/lib/python3.11/site-packages (from torch>=1.10->vit_pytorch) (10.3.5.147)\n",
      "Requirement already satisfied: nvidia-cusolver-cu12==11.6.1.9 in /home/pdm2570/.conda/envs/tf_gpu/lib/python3.11/site-packages (from torch>=1.10->vit_pytorch) (11.6.1.9)\n",
      "Requirement already satisfied: nvidia-cusparse-cu12==12.3.1.170 in /home/pdm2570/.conda/envs/tf_gpu/lib/python3.11/site-packages (from torch>=1.10->vit_pytorch) (12.3.1.170)\n",
      "Requirement already satisfied: nvidia-nccl-cu12==2.21.5 in /home/pdm2570/.conda/envs/tf_gpu/lib/python3.11/site-packages (from torch>=1.10->vit_pytorch) (2.21.5)\n",
      "Requirement already satisfied: nvidia-nvtx-cu12==12.4.127 in /home/pdm2570/.conda/envs/tf_gpu/lib/python3.11/site-packages (from torch>=1.10->vit_pytorch) (12.4.127)\n",
      "Requirement already satisfied: nvidia-nvjitlink-cu12==12.4.127 in /home/pdm2570/.conda/envs/tf_gpu/lib/python3.11/site-packages (from torch>=1.10->vit_pytorch) (12.4.127)\n",
      "Requirement already satisfied: triton==3.1.0 in /home/pdm2570/.conda/envs/tf_gpu/lib/python3.11/site-packages (from torch>=1.10->vit_pytorch) (3.1.0)\n",
      "Requirement already satisfied: sympy==1.13.1 in /home/pdm2570/.conda/envs/tf_gpu/lib/python3.11/site-packages (from torch>=1.10->vit_pytorch) (1.13.1)\n",
      "Requirement already satisfied: mpmath<1.4,>=1.1.0 in /home/pdm2570/.conda/envs/tf_gpu/lib/python3.11/site-packages (from sympy==1.13.1->torch>=1.10->vit_pytorch) (1.3.0)\n",
      "Requirement already satisfied: numpy in /home/pdm2570/.conda/envs/tf_gpu/lib/python3.11/site-packages (from torchvision->vit_pytorch) (1.26.4)\n",
      "Requirement already satisfied: pillow!=8.3.*,>=5.3.0 in /home/pdm2570/.conda/envs/tf_gpu/lib/python3.11/site-packages (from torchvision->vit_pytorch) (10.4.0)\n",
      "Requirement already satisfied: MarkupSafe>=2.0 in /home/pdm2570/.conda/envs/tf_gpu/lib/python3.11/site-packages (from jinja2->torch>=1.10->vit_pytorch) (2.1.5)\n"
     ]
    }
   ],
   "source": [
    "!pip install einops\n",
    "!pip install vit_pytorch"
   ]
  },
  {
   "cell_type": "code",
   "execution_count": 2,
   "metadata": {},
   "outputs": [
    {
     "ename": "ModuleNotFoundError",
     "evalue": "No module named 'dgn_agent'",
     "output_type": "error",
     "traceback": [
      "\u001b[0;31m---------------------------------------------------------------------------\u001b[0m",
      "\u001b[0;31mModuleNotFoundError\u001b[0m                       Traceback (most recent call last)",
      "Cell \u001b[0;32mIn[2], line 2\u001b[0m\n\u001b[1;32m      1\u001b[0m \u001b[38;5;28;01mfrom\u001b[39;00m \u001b[38;5;21;01mrl_env\u001b[39;00m \u001b[38;5;28;01mimport\u001b[39;00m \u001b[38;5;241m*\u001b[39m\n\u001b[0;32m----> 2\u001b[0m \u001b[38;5;28;01mfrom\u001b[39;00m \u001b[38;5;21;01mdgn_agent\u001b[39;00m \u001b[38;5;28;01mimport\u001b[39;00m \u001b[38;5;241m*\u001b[39m\n\u001b[1;32m      3\u001b[0m \u001b[38;5;28;01mfrom\u001b[39;00m \u001b[38;5;21;01mtrain_test_agent\u001b[39;00m \u001b[38;5;28;01mimport\u001b[39;00m \u001b[38;5;241m*\u001b[39m\n\u001b[1;32m      4\u001b[0m \u001b[38;5;28;01mfrom\u001b[39;00m \u001b[38;5;21;01mvit\u001b[39;00m \u001b[38;5;28;01mimport\u001b[39;00m \u001b[38;5;241m*\u001b[39m\n",
      "\u001b[0;31mModuleNotFoundError\u001b[0m: No module named 'dgn_agent'"
     ]
    }
   ],
   "source": [
    "from rl_env import *\n",
    "from dqn_agent import *\n",
    "from train_test_agent import *\n",
    "from vit import *\n",
    "\n",
    "import matplotlib as plt\n",
    "import os\n",
    "import pandas as pd\n",
    "\n",
    "import torchvision"
   ]
  },
  {
   "cell_type": "code",
   "execution_count": null,
   "metadata": {},
   "outputs": [],
   "source": [
    "models_save_path        = \"./model\"\n",
    "results_save_path_agent = \"./result\"\n",
    "dataset_path            = \"./dataset\""
   ]
  },
  {
   "cell_type": "markdown",
   "metadata": {},
   "source": [
    "# Seed and Device Setting"
   ]
  },
  {
   "cell_type": "code",
   "execution_count": null,
   "metadata": {},
   "outputs": [],
   "source": [
    "def set_seed(seed):\n",
    "    random.seed(seed)\n",
    "    os.environ['PYTHONHASHSEED'] = str(seed)\n",
    "    np.random.seed(seed)\n",
    "    torch.manual_seed(seed)\n",
    "    torch.cuda.manual_seed(seed)\n",
    "    torch.cuda.manual_seed_all(seed)\n",
    "    torch.backends.cudnn.deterministic = True\n",
    "\n",
    "set_seed(42)"
   ]
  },
  {
   "cell_type": "code",
   "execution_count": null,
   "metadata": {},
   "outputs": [],
   "source": [
    "device = torch.device('cuda:0' if torch.cuda.is_available() else 'cpu')\n",
    "print(device)"
   ]
  },
  {
   "cell_type": "markdown",
   "metadata": {},
   "source": [
    "# Dataset"
   ]
  },
  {
   "cell_type": "markdown",
   "metadata": {},
   "source": [
    "## Dataset Parameters"
   ]
  },
  {
   "cell_type": "code",
   "execution_count": null,
   "metadata": {},
   "outputs": [],
   "source": [
    "batch_size = 128\n",
    "img_size = 32\n",
    "dataset_name = \"CIFAR10_BIG_\""
   ]
  },
  {
   "cell_type": "markdown",
   "metadata": {},
   "source": [
    "## Train, validation and test"
   ]
  },
  {
   "cell_type": "code",
   "execution_count": null,
   "metadata": {},
   "outputs": [],
   "source": [
    "transform_train = transforms.Compose([\n",
    "    transforms.RandomCrop(32, padding=4),\n",
    "    transforms.Resize(img_size),\n",
    "    transforms.RandomHorizontalFlip(),\n",
    "    transforms.ToTensor(),\n",
    "    transforms.Normalize((0.4914, 0.4822, 0.4465), (0.2023, 0.1994, 0.2010)),\n",
    "])\n",
    "\n",
    "transform_validation = transforms.Compose([\n",
    "    transforms.Resize(img_size),\n",
    "    transforms.ToTensor(),\n",
    "    transforms.Normalize((0.4914, 0.4822, 0.4465), (0.2023, 0.1994, 0.2010)),\n",
    "])\n",
    "\n",
    "\n",
    "# Prepare/download dataset\n",
    "trainset = torchvision.datasets.CIFAR10(root=dataset_path, train=True, download=True, transform=transform_train)\n",
    "train_loader = torch.utils.data.DataLoader(trainset, batch_size=batch_size, shuffle=True, num_workers=2, pin_memory=True)\n",
    "\n",
    "validationset = torchvision.datasets.CIFAR10(root=dataset_path, train=False, download=True, transform=transform_validation)\n",
    "\n",
    "dataset_size = len(validationset)\n",
    "validation_size = int(0.95 * dataset_size)\n",
    "test_size = dataset_size - validation_size\n",
    "\n",
    "validationset, testset = data.random_split(validationset, [validation_size, test_size])\n",
    "\n",
    "validation_loader = torch.utils.data.DataLoader(validationset, batch_size=batch_size, shuffle=False, num_workers=2, pin_memory=True)\n",
    "test_loader = torch.utils.data.DataLoader(testset, batch_size=batch_size, shuffle=False, num_workers=2, pin_memory=True)\n",
    "\n",
    "classes = trainset.classes\n",
    "print(classes)"
   ]
  },
  {
   "cell_type": "markdown",
   "metadata": {},
   "source": [
    "# Training "
   ]
  },
  {
   "cell_type": "markdown",
   "metadata": {},
   "source": [
    "## Parameter Initialization"
   ]
  },
  {
   "cell_type": "code",
   "execution_count": null,
   "metadata": {},
   "outputs": [],
   "source": [
    "buffer_batch_size = 8\n",
    "buffer_size = 64\n",
    "\n",
    "gamma = 0.95\n",
    "\n",
    "eps_start = 1\n",
    "eps_end = 0.01\n",
    "eps = eps_start\n",
    "eps_decay = 20000\n",
    "\n",
    "lr = 0.01\n",
    "\n",
    "tau = 0.1\n",
    "update_every = 2\n",
    "\n",
    "get_reward_every = 10\n",
    "\n",
    "pretrained = True\n",
    "\n",
    "max_reward = 10\n",
    "alpha = 0.2 # Where alpha defines weight of loss reward, and 1-alpha defines weight of patch (time) reward\n",
    "# loss_weight = max_reward*(alpha)  # TODO THIS ONE TOO\n",
    "# time_weight = max_reward*(1-alpha) # TODO PLAY WITH THESE VALUES A LOT\n",
    "loss_weight = alpha\n",
    "time_weight = 1-alpha\n",
    "    \n",
    "# Input image to DQN agent's  Q-network\n",
    "dqn_img_w = 32 # for CIFAR, lowres=16, fullres=32\n",
    "dqn_input_channels = 3\n",
    "dqn_input_size = dqn_img_w*dqn_img_w*dqn_input_channels # input to DQN (mlp type)"
   ]
  },
  {
   "cell_type": "code",
   "execution_count": null,
   "metadata": {},
   "outputs": [],
   "source": [
    "# This is the number of patches along the width/height of the square image.\n",
    "patch_width = 4\n",
    "# patch_size = int(img_size/patch_width)\n",
    "patch_size = patch_width # This is what you get when you work with someone else's code and don't want to rewrite everything.\n",
    "\n",
    "\n",
    "total_patches = int((img_size/patch_width)**2)\n",
    "print(total_patches)\n",
    "n_patch_selected = int(total_patches*(40/64)) # From the paper\n",
    "\n",
    "\n",
    "att_dim = 128\n",
    "\n",
    "epochs = 100\n",
    "learning_rate = 0.001\n",
    "\n",
    "ViTnet = SimpleAgentViT(\n",
    "    image_size = img_size,\n",
    "    patch_size = patch_size,\n",
    "    num_classes = len(classes),\n",
    "    dim = att_dim,\n",
    "    depth = 6,\n",
    "    heads = 16,\n",
    "    mlp_dim = 512\n",
    ")\n",
    "\n",
    "# Sposta il modello sulla GPU (se disponibile)\n",
    "ViTnet.to(device)\n",
    "\n",
    "# definiamo l'ottimizzatore\n",
    "optimizer = optim.Adam(ViTnet.parameters(), lr=learning_rate)"
   ]
  },
  {
   "cell_type": "markdown",
   "metadata": {},
   "source": [
    "## Create Environment and Training Agent"
   ]
  },
  {
   "cell_type": "code",
   "execution_count": null,
   "metadata": {},
   "outputs": [],
   "source": [
    "#env = ViTEnv(ViTnet, total_patches, optimizer, loss_weight, time_weight, device, n_patch_selected)\n",
    "env = ViTEnv(ViTnet, total_patches, optimizer, loss_weight, time_weight, device, n_patch_selected, total_epochs=epochs)"
   ]
  },
  {
   "cell_type": "code",
   "execution_count": null,
   "metadata": {},
   "outputs": [],
   "source": [
    "model = TrainingTestingAgent(epochs = epochs,\n",
    "                             model = ViTnet,\n",
    "                             get_reward_every = get_reward_every,\n",
    "                             buffer_batch_size = buffer_batch_size,\n",
    "                             batch_size = batch_size,\n",
    "                             env = env,\n",
    "                             att_dim = att_dim,\n",
    "                             n_patches = total_patches,\n",
    "                             buffer_size = buffer_size,\n",
    "                             gamma = gamma,\n",
    "                             tau = tau,\n",
    "                             update_every = update_every,\n",
    "                             lr = lr,\n",
    "                             eps_end = eps_end,\n",
    "                             eps_start = eps_start,\n",
    "                             eps_decay = eps_decay,\n",
    "                             train_loader = train_loader,\n",
    "                             validation_loader = validation_loader,\n",
    "                             device = device,\n",
    "                             dqn_input_size=dqn_input_size,\n",
    "                             pretrained=pretrained)"
   ]
  },
  {
   "cell_type": "markdown",
   "metadata": {},
   "source": [
    "## Main Training Loop"
   ]
  },
  {
   "cell_type": "code",
   "execution_count": null,
   "metadata": {},
   "outputs": [],
   "source": [
    "initial = time.time()\n",
    "step_reward, selected_patch = model.train_test()\n",
    "print(f'Total Time: {time.time()-initial}')"
   ]
  },
  {
   "cell_type": "markdown",
   "metadata": {},
   "source": [
    "### Training and Validation Metrics"
   ]
  },
  {
   "cell_type": "code",
   "execution_count": null,
   "metadata": {},
   "outputs": [],
   "source": [
    "results_train = model.train_info()\n",
    "train_loss = results_train['train_loss']\n",
    "train_time = results_train['train_time']"
   ]
  },
  {
   "cell_type": "code",
   "execution_count": null,
   "metadata": {},
   "outputs": [],
   "source": [
    "results_validation = model.validation_info()\n",
    "validation_loss = results_validation['validation_loss']\n",
    "validation_acc = results_validation['validation_acc']"
   ]
  },
  {
   "cell_type": "code",
   "execution_count": null,
   "metadata": {},
   "outputs": [],
   "source": [
    "save_name=\"highres_pretrained-frozen-cnn_default-configs_4patch_rebalanceR\"\n",
    "\n",
    "df = pd.DataFrame(results_train)\n",
    "\n",
    "df.to_csv(f'{results_save_path_agent}{dataset_name}_train_lowres_dr_e100_{save_name}.csv', index=False)"
   ]
  },
  {
   "cell_type": "code",
   "execution_count": null,
   "metadata": {},
   "outputs": [],
   "source": [
    "df = pd.DataFrame(results_validation)\n",
    "\n",
    "df.to_csv(f'{results_save_path_agent}{dataset_name}_validation_lowres_dr_e100_{save_name}.csv', index=False)"
   ]
  },
  {
   "cell_type": "code",
   "execution_count": null,
   "metadata": {},
   "outputs": [],
   "source": [
    "model_name = \"high-Res Pretrained frozen CNN (Default Configs), 4x4 patches, ReBalance Reward\"\n",
    "\n",
    "plt.plot(range(len(train_loss)), train_loss, label='Train Loss')\n",
    "\n",
    "plt.legend()\n",
    "plt.title('Loss over time: {}'.format(model_name))\n",
    "plt.xlabel('Iteration')\n",
    "plt.ylabel('Loss')\n",
    "\n",
    "plt.show()"
   ]
  },
  {
   "cell_type": "code",
   "execution_count": null,
   "metadata": {},
   "outputs": [],
   "source": [
    "plt.plot(range(len(validation_loss)), validation_loss, label='Validation Loss')\n",
    "\n",
    "plt.legend()\n",
    "plt.title('Loss over time: {}'.format(model_name))\n",
    "plt.xlabel('Epochs')\n",
    "plt.ylabel('Loss')\n",
    "\n",
    "plt.show()"
   ]
  },
  {
   "cell_type": "code",
   "execution_count": null,
   "metadata": {},
   "outputs": [],
   "source": [
    "x = range(len(validation_acc))\n",
    "y = validation_acc\n",
    "\n",
    "plt.plot(x, y, label='Validation Accuracy')\n",
    "\n",
    "plt.legend()\n",
    "plt.title('Accuracy over time: {}'.format(model_name))\n",
    "plt.xlabel('Epochs')\n",
    "plt.ylabel('Accuracy')\n",
    "\n",
    "plt.show()"
   ]
  },
  {
   "cell_type": "markdown",
   "metadata": {},
   "source": [
    "## Evaluation for different Heuristics"
   ]
  },
  {
   "cell_type": "markdown",
   "metadata": {},
   "source": [
    "### Training Set: All Patches"
   ]
  },
  {
   "cell_type": "code",
   "execution_count": null,
   "metadata": {},
   "outputs": [],
   "source": [
    "evaluate_agent(ViTnet, train_loader, device, ViTnet, model)"
   ]
  },
  {
   "cell_type": "markdown",
   "metadata": {},
   "source": [
    "### Training Set: Agent-Selected Patches"
   ]
  },
  {
   "cell_type": "code",
   "execution_count": null,
   "metadata": {},
   "outputs": [],
   "source": [
    "# time-dependent reward component\n",
    "evaluate_agent(ViTnet, train_loader, device, ViTnet, model, mode = \"agent\")"
   ]
  },
  {
   "cell_type": "markdown",
   "metadata": {},
   "source": [
    "### Training Set: Random Patches"
   ]
  },
  {
   "cell_type": "code",
   "execution_count": 1,
   "metadata": {},
   "outputs": [
    {
     "ename": "NameError",
     "evalue": "name 'evaluate_agent' is not defined",
     "output_type": "error",
     "traceback": [
      "\u001b[1;31m---------------------------------------------------------------------------\u001b[0m",
      "\u001b[1;31mNameError\u001b[0m                                 Traceback (most recent call last)",
      "Cell \u001b[1;32mIn[1], line 2\u001b[0m\n\u001b[0;32m      1\u001b[0m \u001b[38;5;66;03m# time-dependent reward component\u001b[39;00m\n\u001b[1;32m----> 2\u001b[0m \u001b[43mevaluate_agent\u001b[49m(ViTnet, train_loader, device, ViTnet, model, mode \u001b[38;5;241m=\u001b[39m \u001b[38;5;124m\"\u001b[39m\u001b[38;5;124mrandom\u001b[39m\u001b[38;5;124m\"\u001b[39m)\n",
      "\u001b[1;31mNameError\u001b[0m: name 'evaluate_agent' is not defined"
     ]
    }
   ],
   "source": [
    "# time-dependent reward component\n",
    "evaluate_agent(ViTnet, train_loader, device, ViTnet, model, mode = \"random\")"
   ]
  },
  {
   "cell_type": "markdown",
   "metadata": {},
   "source": [
    "### Validation Set: All Patches"
   ]
  },
  {
   "cell_type": "code",
   "execution_count": null,
   "metadata": {},
   "outputs": [],
   "source": [
    "evaluate_agent(ViTnet, test_loader, device, ViTnet, model)"
   ]
  },
  {
   "cell_type": "markdown",
   "metadata": {},
   "source": [
    "### Validation Set: Agent-Selected Patches"
   ]
  },
  {
   "cell_type": "code",
   "execution_count": null,
   "metadata": {},
   "outputs": [],
   "source": [
    "evaluate_agent(ViTnet, test_loader, device, mode = \"agent\")"
   ]
  },
  {
   "cell_type": "markdown",
   "metadata": {},
   "source": [
    "### Validation Set: Random Patches"
   ]
  },
  {
   "cell_type": "code",
   "execution_count": null,
   "metadata": {},
   "outputs": [],
   "source": [
    "evaluate_agent(ViTnet, test_loader, device, mode = \"random\")"
   ]
  }
 ],
 "metadata": {
  "kernelspec": {
   "display_name": "Python 3",
   "language": "python",
   "name": "python3"
  },
  "language_info": {
   "codemirror_mode": {
    "name": "ipython",
    "version": 3
   },
   "file_extension": ".py",
   "mimetype": "text/x-python",
   "name": "python",
   "nbconvert_exporter": "python",
   "pygments_lexer": "ipython3",
   "version": "3.11.0"
  }
 },
 "nbformat": 4,
 "nbformat_minor": 2
}
