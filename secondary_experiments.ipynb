{
 "cells": [
  {
   "cell_type": "markdown",
   "metadata": {
    "id": "rXC93PvZHALw"
   },
   "source": [
    "# Secondary Experiments"
   ]
  },
  {
   "cell_type": "markdown",
   "metadata": {},
   "source": [
    "In this notebook, we will be expanding on the base experiments by enhancing our RL Agent and Training Agents with various improvements. The research questions we seek to answer include:\n",
    "<ul>\n",
    "<li> How does the agent improve in patch selection and in accelerating training if it is trained over multiple ViT training runs, rather than just one?\n",
    "<li> How does prioritized experience replay improve path selection?\n",
    "<li> How might an RL agent also select images to be used for the minibatch?\n",
    "<li> Would using dropout improve either the DQN or the ViT?\n",
    "</ul>\n"
   ]
  },
  {
   "cell_type": "code",
   "execution_count": 1,
   "metadata": {
    "colab": {
     "base_uri": "https://localhost:8080/"
    },
    "id": "JBzM4-qJKiU8",
    "outputId": "08d1421b-3897-41ba-dc56-cc6f8af92c99"
   },
   "outputs": [],
   "source": [
    "# !pip install einops\n",
    "# !pip install vit_pytorch\n",
    "# !pip install torchvision\n"
   ]
  },
  {
   "cell_type": "code",
   "execution_count": 2,
   "metadata": {
    "id": "bBKm4O3pn19s"
   },
   "outputs": [],
   "source": [
    "models_save_path        = \"./model\"\n",
    "results_save_path_agent = \"./result\"\n",
    "dataset_path            = \"./dataset\""
   ]
  },
  {
   "cell_type": "code",
   "execution_count": 3,
   "metadata": {
    "id": "Yt6SLbwUnu6r"
   },
   "outputs": [],
   "source": [
    "# from google.colab import drive\n",
    "# drive.mount('/content/drive')"
   ]
  },
  {
   "cell_type": "code",
   "execution_count": 4,
   "metadata": {
    "colab": {
     "base_uri": "https://localhost:8080/"
    },
    "id": "jX7uYCACg2j5",
    "outputId": "5c9f9e3e-df84-450e-bcf0-757d4d0ed93b"
   },
   "outputs": [
    {
     "name": "stdout",
     "output_type": "stream",
     "text": [
      "Requirement already satisfied: scikit-learn in c:\\users\\patrick\\documents\\github\\bio-agentvit\\.venv\\lib\\site-packages (1.6.1)\n",
      "Requirement already satisfied: numpy>=1.19.5 in c:\\users\\patrick\\documents\\github\\bio-agentvit\\.venv\\lib\\site-packages (from scikit-learn) (2.2.2)\n",
      "Requirement already satisfied: scipy>=1.6.0 in c:\\users\\patrick\\documents\\github\\bio-agentvit\\.venv\\lib\\site-packages (from scikit-learn) (1.15.1)\n",
      "Requirement already satisfied: joblib>=1.2.0 in c:\\users\\patrick\\documents\\github\\bio-agentvit\\.venv\\lib\\site-packages (from scikit-learn) (1.4.2)\n",
      "Requirement already satisfied: threadpoolctl>=3.1.0 in c:\\users\\patrick\\documents\\github\\bio-agentvit\\.venv\\lib\\site-packages (from scikit-learn) (3.5.0)\n"
     ]
    },
    {
     "name": "stderr",
     "output_type": "stream",
     "text": [
      "\n",
      "[notice] A new release of pip is available: 24.3.1 -> 25.0\n",
      "[notice] To update, run: python.exe -m pip install --upgrade pip\n"
     ]
    }
   ],
   "source": [
    "# Libraries for data handling\n",
    "import numpy as np\n",
    "import pandas as pd\n",
    "\n",
    "# Libraries for image manipulation and machine learning\n",
    "import torchvision\n",
    "import torchvision.transforms as transforms\n",
    "import torch\n",
    "import torch.utils.data as data\n",
    "import torch.nn as nn\n",
    "from torch.nn import functional\n",
    "import torch.optim as optim\n",
    "\n",
    "# Library to load in tinyimagenet\n",
    "from tinyimagenet import TinyImageNet\n",
    "from pathlib import Path\n",
    "\n",
    "!pip install scikit-learn\n",
    "\n",
    "# Libraries for model evaluation metrics\n",
    "from sklearn.metrics import precision_score, recall_score, f1_score, accuracy_score\n",
    "from sklearn.preprocessing import MinMaxScaler\n",
    "\n",
    "# Libraries for tensor manipulation\n",
    "from einops import rearrange\n",
    "from einops.layers.torch import Rearrange\n",
    "\n",
    "# Libraries for simulation environments (gym)\n",
    "import gym\n",
    "\n",
    "# Libraries for data visualization\n",
    "import matplotlib.pyplot as plt\n",
    "\n",
    "# Other common libraries\n",
    "from collections import namedtuple\n",
    "import math\n",
    "import time\n",
    "import os\n",
    "import random\n",
    "\n",
    "from dqn_agent import *\n",
    "from train_test_agent import *\n",
    "from rl_env import *\n",
    "from vit import *\n",
    "from viz import *"
   ]
  },
  {
   "cell_type": "code",
   "execution_count": 5,
   "metadata": {},
   "outputs": [],
   "source": [
    "from train_test_agent import *"
   ]
  },
  {
   "cell_type": "markdown",
   "metadata": {
    "id": "Xi1SBM-8TRqg"
   },
   "source": [
    "<h3> Seed and Device setting"
   ]
  },
  {
   "cell_type": "code",
   "execution_count": 6,
   "metadata": {
    "id": "zIBVHD-TTU6u"
   },
   "outputs": [],
   "source": [
    "def set_seed(seed):\n",
    "    random.seed(seed)\n",
    "    os.environ['PYTHONHASHSEED'] = str(seed)\n",
    "    np.random.seed(seed)\n",
    "    torch.manual_seed(seed)\n",
    "    torch.cuda.manual_seed(seed)\n",
    "    torch.cuda.manual_seed_all(seed)\n",
    "    torch.backends.cudnn.deterministic = True\n",
    "\n",
    "set_seed(42)"
   ]
  },
  {
   "cell_type": "code",
   "execution_count": 7,
   "metadata": {
    "colab": {
     "base_uri": "https://localhost:8080/"
    },
    "id": "qL0i8NnGpUPc",
    "outputId": "2d665f9f-2adc-42f7-8b92-e02734d89632"
   },
   "outputs": [
    {
     "name": "stdout",
     "output_type": "stream",
     "text": [
      "0\n",
      "Usings CPU for all devices.\n",
      "Device for our model: cpu\n",
      "Device for their model: cpu\n",
      "Device for baseline model: cpu\n"
     ]
    }
   ],
   "source": [
    "num_cuda_devices = torch.cuda.device_count()\n",
    "print(num_cuda_devices)\n",
    "if num_cuda_devices == 0:\n",
    "    # raise ValueError(\"Not enough CUDA devices available. At least 3 are required.\")\n",
    "    device_our = torch.device('cpu')\n",
    "    device_their = torch.device('cpu')\n",
    "    device_baseline = torch.device('cpu')\n",
    "    \n",
    "    print(\"Usings CPU for all devices.\")\n",
    "\n",
    "elif num_cuda_devices == 1:\n",
    "    device_our = torch.device('cuda:0')\n",
    "    device_their = torch.device('cuda:0')\n",
    "    device_baseline = torch.device('cuda:0')\n",
    "\n",
    "    print(f\"Using single CUDA device: {device_our}\")\n",
    "\n",
    "else:\n",
    "    device_our = torch.device('cuda:0')\n",
    "    device_their = torch.device('cuda:1')\n",
    "    device_baseline = torch.device('cuda:2')\n",
    "\n",
    "print(f\"Device for our model: {device_our}\")\n",
    "print(f\"Device for their model: {device_their}\")\n",
    "print(f\"Device for baseline model: {device_baseline}\")\n",
    "\n",
    "\n",
    "# device = torch.device('cuda:0' if torch.cuda.is_available() else 'cpu')\n",
    "# print(device)"
   ]
  },
  {
   "cell_type": "markdown",
   "metadata": {
    "id": "ng75uqlIgCvl"
   },
   "source": [
    "# Dataset"
   ]
  },
  {
   "cell_type": "markdown",
   "metadata": {
    "id": "diI87IeqHIE5"
   },
   "source": [
    "<h3> Dataset Parameters"
   ]
  },
  {
   "cell_type": "code",
   "execution_count": 8,
   "metadata": {
    "id": "XLxr6JMmgP0g"
   },
   "outputs": [],
   "source": [
    "batch_size = 128\n",
    "## Define what dataset we're using.\n",
    "datasets = [\"tinyimagenet\", \"cifar10\"]\n",
    "dataset_idx = 1\n",
    "dataset_name = datasets[dataset_idx]\n",
    "use_subset = False\n",
    "subset_classes = 20\n",
    "load_indices = True\n",
    "\n",
    "if dataset_idx == 0:\n",
    "    img_size = 64\n",
    "    if use_subset:\n",
    "        dataset_name = f\"{dataset_name}_{subset_classes}_subset\"\n",
    "    else:\n",
    "        dataset_name = f\"{dataset_name}\"\n",
    "elif dataset_idx == 1:\n",
    "    img_size = 32\n",
    "    use_subset = False\n",
    "    load_indices = False\n",
    "        \n",
    "    \n",
    "\n",
    "# img_size = 64\n",
    "# dataset_name = \"CIFAR10_BIG_\"\n",
    "# dataset_name = \"TinyImageNet\""
   ]
  },
  {
   "cell_type": "markdown",
   "metadata": {
    "id": "SWAh2lXxHQhL"
   },
   "source": [
    "## Train, validation and test"
   ]
  },
  {
   "cell_type": "code",
   "execution_count": 9,
   "metadata": {
    "colab": {
     "base_uri": "https://localhost:8080/"
    },
    "id": "TPPcrxFQHS-r",
    "outputId": "cbe50baf-afea-4d6f-f470-8713f6c05682"
   },
   "outputs": [
    {
     "name": "stdout",
     "output_type": "stream",
     "text": [
      "Files already downloaded and verified\n",
      "Files already downloaded and verified\n",
      "Files already downloaded and verified\n",
      "Dataset downloaded!\n",
      "['airplane', 'automobile', 'bird', 'cat', 'deer', 'dog', 'frog', 'horse', 'ship', 'truck']\n"
     ]
    }
   ],
   "source": [
    "import csv\n",
    "import os\n",
    "\n",
    "\n",
    "\n",
    "transform_train = transforms.Compose([\n",
    "    transforms.RandomCrop(img_size, padding=8),\n",
    "    transforms.Resize(img_size),\n",
    "    transforms.RandomHorizontalFlip(),\n",
    "    transforms.ToTensor(),\n",
    "    transforms.Normalize(mean=TinyImageNet.mean, std=TinyImageNet.std),\n",
    "])\n",
    "\n",
    "transform_validation = transforms.Compose([\n",
    "    transforms.Resize(img_size),\n",
    "    transforms.ToTensor(),\n",
    "    transforms.Normalize(mean=TinyImageNet.mean, std=TinyImageNet.std),\n",
    "])\n",
    "\n",
    "# Prepare and load TinyImageNet dataset\n",
    "if (dataset_idx == 0):\n",
    "    trainset_pure = TinyImageNet(Path(\"~/.torchvision/tinyimagenet/\"),split=\"train\",imagenet_idx=False)\n",
    "    trainset =      TinyImageNet(Path(\"~/.torchvision/tinyimagenet/\"),split=\"train\",imagenet_idx=False, transform=transform_train)\n",
    "    validationset = TinyImageNet(Path(\"~/.torchvision/tinyimagenet/\"),split=\"val\",imagenet_idx=False, transform=transform_validation)\n",
    "\n",
    "# Prepare/download CIFAR10 dataset\n",
    "if (dataset_idx == 1):\n",
    "    trainset_pure = torchvision.datasets.CIFAR10(root=dataset_path, train=True, download=True)\n",
    "    trainset =      torchvision.datasets.CIFAR10(root=dataset_path, train=True, download=True, transform=transform_train)\n",
    "    validationset = torchvision.datasets.CIFAR10(root=dataset_path, train=False, download=True, transform=transform_validation)\n",
    "\n",
    "print(\"Dataset downloaded!\")\n",
    "# Only select 20 classes from tinyimagenet.\n",
    "if use_subset:\n",
    "    print(\"Using subset of {} classes\".format(subset_classes))\n",
    "     # Select 20 random classes\n",
    "    selected_classes = list(range(subset_classes))\n",
    "    class_to_idx = {cls: idx for idx, cls in enumerate(selected_classes)}\n",
    "\n",
    "    # Create a mapping from class indices to new indices\n",
    "    start_time = time.time()\n",
    "    # Filter the dataset to include only the selected classes\n",
    "    train_indices_file = 'train_subset_indices_{subset_classes}class.csv'\n",
    "    val_indices_file = 'val_subset_indices_{subset_classes}.csv'\n",
    "\n",
    "    if os.path.exists(train_indices_file) and os.path.exists(val_indices_file) and load_indices:\n",
    "        print(\"Loading subset indices from files...\")\n",
    "        with open(train_indices_file, 'r') as file:\n",
    "            reader = csv.reader(file)\n",
    "            train_subset_indices = list(map(int, next(reader)))\n",
    "\n",
    "        with open(val_indices_file, 'r') as file:\n",
    "            reader = csv.reader(file)\n",
    "            val_subset_indices = list(map(int, next(reader)))\n",
    "    else:\n",
    "        print(\"Computing subset indices...\")\n",
    "        start_time = time.time()\n",
    "        train_subset_indices = [i for i, (_, label) in enumerate(validationset) if label in selected_classes]\n",
    "        val_subset_indices = [i for i, (_, label) in enumerate(trainset) if label in selected_classes]\n",
    "        total_time = time.time() - start_time\n",
    "        print(f\"Time taken to compute subset indices: {total_time:.2f} seconds\")\n",
    "        with open('train_subset_indices_{subset_classes}class.csv', 'w', newline='') as file:\n",
    "            writer = csv.writer(file)\n",
    "            writer.writerow(train_subset_indices)\n",
    "\n",
    "        with open('val_subset_indices_{subset_classes}.csv', 'w', newline='') as file:\n",
    "            writer = csv.writer(file)\n",
    "            writer.writerow(val_subset_indices)\n",
    "    # train_subset_indices = [i for i, (_, label) in enumerate(validationset) if label in selected_classes]\n",
    "    # val_subset_indices = [i for i, (_, label) in enumerate(trainset) if label in selected_classes]\n",
    "\n",
    "    val_subset = data.Subset(validationset, train_subset_indices)\n",
    "    train_subset = data.Subset(trainset, val_subset_indices)\n",
    "\n",
    "    \n",
    "\n",
    "    train_loader = torch.utils.data.DataLoader(train_subset, batch_size=batch_size, shuffle=True, num_workers=2, pin_memory=True)\n",
    "    print(\"trainloader created successfully.\")\n",
    "    dataset_size = len(val_subset)\n",
    "    validation_size = int(0.95 * dataset_size)\n",
    "    test_size = dataset_size - validation_size\n",
    "\n",
    "    print(\"spltting dataset into validation and test sets...\")\n",
    "    val_subset, test_subset = data.random_split(val_subset, [validation_size, test_size])\n",
    "\n",
    "    validation_loader = torch.utils.data.DataLoader(val_subset, batch_size=batch_size, shuffle=False, num_workers=2, pin_memory=True)\n",
    "    test_loader = torch.utils.data.DataLoader(test_subset, batch_size=batch_size, shuffle=False, num_workers=2, pin_memory=True)\n",
    "    classes = class_to_idx\n",
    "    print(len(np.unique(val_subset.indices)))\n",
    "    print(len(np.unique(train_subset.indices)))\n",
    "\n",
    "else:\n",
    "    dataset_size = len(validationset)\n",
    "    validation_size = int(0.95 * dataset_size)\n",
    "    test_size = dataset_size - validation_size\n",
    "    validationset, testset = data.random_split(validationset, [validation_size, test_size])\n",
    "    train_loader = torch.utils.data.DataLoader(trainset, batch_size=batch_size, shuffle=True, num_workers=2, pin_memory=True)\n",
    "    validation_loader = torch.utils.data.DataLoader(validationset, batch_size=batch_size, shuffle=False, num_workers=2, pin_memory=True)\n",
    "    test_loader = torch.utils.data.DataLoader(trainset, batch_size=batch_size, shuffle=False, num_workers=2, pin_memory=True)\n",
    "    classes = trainset.classes\n",
    "\n",
    "# classes = trainset.classes\n",
    "\n",
    "print(classes)"
   ]
  },
  {
   "cell_type": "markdown",
   "metadata": {
    "id": "_4JC4EFqtfK5"
   },
   "source": [
    "# Agent"
   ]
  },
  {
   "cell_type": "markdown",
   "metadata": {
    "id": "YL2DwKZ1Mdkr"
   },
   "source": [
    "### Functions for training and validation"
   ]
  },
  {
   "cell_type": "markdown",
   "metadata": {
    "id": "S9IYQ9yHAUwe"
   },
   "source": [
    "### Initialization"
   ]
  },
  {
   "cell_type": "code",
   "execution_count": 10,
   "metadata": {
    "id": "TaR2dDv2MQaV"
   },
   "outputs": [],
   "source": [
    "buffer_batch_size = 8\n",
    "buffer_size = 64\n",
    "\n",
    "gamma = 0.95\n",
    "\n",
    "eps_start = 1\n",
    "eps_end = 0.01\n",
    "eps = eps_start\n",
    "eps_decay = 20000\n",
    "\n",
    "lr = 0.01\n",
    "\n",
    "tau = 0.1\n",
    "update_every = 2\n",
    "\n",
    "get_reward_every = 10\n",
    "\n",
    "ourPretrained = False  # Pretrained with CIFAR10 weights, that is.\n",
    "pretrained = False\n",
    "verbose = False     # Whether to print out training progress or not\n",
    "\n",
    "max_reward = 10\n",
    "alpha = 0.2 # Where alpha defines weight of loss reward, and 1-alpha defines weight of patch (time) reward\n",
    "# loss_weight = max_reward*(alpha)  # TODO THIS ONE TOO\n",
    "# time_weight = max_reward*(1-alpha) # TODO PLAY WITH THESE VALUES A LOT\n",
    "loss_weight = alpha\n",
    "time_weight = 1-alpha\n",
    "\n",
    "# Input image to DQN agent's  Q-network\n",
    "# for CIFAR, lowres=16, fullres=32\n",
    "# For TinyImageNet, halfres = 32, fullres = 64\n",
    "dqn_img_w = img_size // 2\n",
    "dqn_input_channels = 3\n",
    "dqn_input_size = dqn_img_w*dqn_img_w*dqn_input_channels # input to DQN (mlp type)"
   ]
  },
  {
   "cell_type": "code",
   "execution_count": 11,
   "metadata": {
    "colab": {
     "base_uri": "https://localhost:8080/"
    },
    "id": "vl8vY8iKrKbW",
    "outputId": "a006f5e7-e1f7-40c0-c6d7-d5469e24b1c3"
   },
   "outputs": [
    {
     "name": "stdout",
     "output_type": "stream",
     "text": [
      "64\n"
     ]
    }
   ],
   "source": [
    "# This is the number of patches along the width/height of the square image.\n",
    "# TODO refactor...img_size is defined WAY up in the notebook, right before dataset loader initialization\n",
    "patch_width = 4\n",
    "# patch_size = int(img_size/patch_width)\n",
    "patch_size = patch_width # This is what you get when you work with someone else's code and don't want to rewrite everything.\n",
    "\n",
    "\n",
    "total_patches = int((img_size/patch_width)**2)\n",
    "print(total_patches)\n",
    "n_patch_selected = int(total_patches*(40/64)) # From the paper\n",
    "\n",
    "\n",
    "att_dim = 128\n",
    "\n",
    "epochs = 20\n",
    "save_every = 10\n",
    "learning_rate = 0.001\n",
    "\n",
    "\n",
    "# Definte the three transformer models.\n",
    "SimpleAgentViTnet = SimpleAgentViT(\n",
    "    image_size = img_size,\n",
    "    patch_size = patch_size,\n",
    "    num_classes = len(classes),\n",
    "    dim = att_dim,\n",
    "    depth = 6,\n",
    "    heads = 16,\n",
    "    mlp_dim = 512\n",
    ")\n",
    "\n",
    "OurViTnet = SimpleAgentViT(\n",
    "    image_size = img_size,\n",
    "    patch_size = patch_size,\n",
    "    num_classes = len(classes),\n",
    "    dim = att_dim,\n",
    "    depth = 6,\n",
    "    heads = 16,\n",
    "    mlp_dim = 512\n",
    ")\n",
    "\n",
    "BaselineSimpleViT = SimpleViT(\n",
    "    image_size = img_size,\n",
    "    patch_size = patch_size,\n",
    "    num_classes = len(classes),\n",
    "    dim = att_dim,\n",
    "    depth = 6,\n",
    "    heads = 16,\n",
    "    mlp_dim = 512\n",
    ")\n",
    "\n",
    "RandomViTnet = SimpleAgentViT(\n",
    "    image_size = img_size,\n",
    "    patch_size = patch_size,\n",
    "    num_classes = len(classes),\n",
    "    dim = att_dim,\n",
    "    depth = 6,\n",
    "    heads = 16,\n",
    "    mlp_dim = 512\n",
    ")\n",
    "\n",
    "\n",
    "# Sposta il modello sulla GPU (se disponibile)\n",
    "SimpleAgentViTnet.to(device_their)\n",
    "OurViTnet.to(device_our)\n",
    "BaselineSimpleViT.to(device_baseline)\n",
    "RandomViTnet.to(device_our)\n",
    "    \n",
    "# definiamo l'ottimizzatore\n",
    "SimpleOptimizer =   optim.Adam(SimpleAgentViTnet.parameters(), lr=learning_rate)\n",
    "OurOptimizer =      optim.Adam(OurViTnet.parameters(), lr=learning_rate)\n",
    "BaselineOptimizer = optim.Adam(BaselineSimpleViT.parameters(), lr=learning_rate)\n",
    "RandomOptimizer =   optim.Adam(RandomViTnet.parameters(), lr=learning_rate)"
   ]
  },
  {
   "cell_type": "code",
   "execution_count": 12,
   "metadata": {
    "id": "_ernM9pqoxbd"
   },
   "outputs": [],
   "source": [
    "#env = ViTEnv(ViTnet, total_patches, optimizer, loss_weight, time_weight, device, n_patch_selected)\n",
    "theirEnv = ViTEnv(SimpleAgentViTnet, total_patches, SimpleOptimizer, loss_weight, time_weight, device_their, n_patch_selected, verbose=verbose, total_epochs=epochs)\n",
    "ourEnv = OurViTEnv(OurViTnet, total_patches, OurOptimizer, loss_weight, time_weight, device_our, n_patch_selected, verbose=verbose, total_epochs=epochs)"
   ]
  },
  {
   "cell_type": "code",
   "execution_count": 13,
   "metadata": {
    "colab": {
     "base_uri": "https://localhost:8080/"
    },
    "id": "iRn2Tplb90tO",
    "outputId": "41f4a30b-3136-4e9e-a179-097a5081f65f"
   },
   "outputs": [
    {
     "name": "stdout",
     "output_type": "stream",
     "text": [
      "ConvNet created! Value of pretrained: False\n",
      "ConvNet created! Value of pretrained: False\n"
     ]
    }
   ],
   "source": [
    "ourModel = OurTrainingTestingAgent(epochs = epochs,\n",
    "                             model = OurViTnet,\n",
    "                             get_reward_every = get_reward_every,\n",
    "                             buffer_batch_size = buffer_batch_size,\n",
    "                             batch_size = batch_size,\n",
    "                             env = ourEnv,\n",
    "                             att_dim = att_dim,\n",
    "                             n_patches = total_patches,\n",
    "                             buffer_size = buffer_size,\n",
    "                             gamma = gamma,\n",
    "                             tau = tau,\n",
    "                             update_every = update_every,\n",
    "                             lr = lr,\n",
    "                             eps_end = eps_end,\n",
    "                             eps_start = eps_start,\n",
    "                             eps_decay = eps_decay,\n",
    "                             train_loader = train_loader,\n",
    "                             validation_loader = validation_loader,\n",
    "                             device = device_our,\n",
    "                             dqn_input_size=dqn_input_size,\n",
    "                             patch_size=patch_size,\n",
    "                             save_every=save_every,\n",
    "                             verbose=verbose,\n",
    "                             pretrained=ourPretrained)\n",
    "\n",
    "theirModel = TrainingTestingAgent(epochs = epochs,\n",
    "                             model = SimpleAgentViTnet,\n",
    "                             get_reward_every = get_reward_every,\n",
    "                             buffer_batch_size = buffer_batch_size,\n",
    "                             batch_size = batch_size,\n",
    "                             env = theirEnv,\n",
    "                             att_dim = att_dim,\n",
    "                             n_patches = total_patches,\n",
    "                             buffer_size = buffer_size,\n",
    "                             gamma = gamma,\n",
    "                             tau = tau,\n",
    "                             update_every = update_every,\n",
    "                             lr = lr,\n",
    "                             eps_end = eps_end,\n",
    "                             eps_start = eps_start,\n",
    "                             eps_decay = eps_decay,\n",
    "                             train_loader = train_loader,\n",
    "                             validation_loader = validation_loader,\n",
    "                             patch_size=patch_size,\n",
    "                             save_every=save_every,\n",
    "                             verbose=verbose,\n",
    "                             device = device_their)\n",
    "\n",
    "baselineModel = SimpleViTTrainingTestingAgent(epochs = epochs,\n",
    "                             batch_size = batch_size, \n",
    "                             model = BaselineSimpleViT,\n",
    "                             train_loader = train_loader, \n",
    "                             validation_loader = validation_loader, \n",
    "                             device = device_baseline,\n",
    "                             optimizer=BaselineOptimizer, \n",
    "                            #  criterion=criterion,\n",
    "                             save_every=save_every, \n",
    "                             verbose=verbose)\n",
    "\n",
    "# Random training agent\n",
    "randomModel = SimpleRandomTrainingTestingAgent(epochs=epochs,\n",
    "                             batch_size=batch_size, \n",
    "                             model=RandomViTnet,\n",
    "                             n_patches = total_patches,\n",
    "                             train_loader=train_loader,\n",
    "                             validation_loader=validation_loader, \n",
    "                             device=device_our,\n",
    "                             optimizer=RandomOptimizer, \n",
    "                             save_every=save_every, \n",
    "                             verbose=verbose)"
   ]
  },
  {
   "cell_type": "code",
   "execution_count": 14,
   "metadata": {},
   "outputs": [],
   "source": [
    "# for key, value in vars(ourModel).items():\n",
    "#     print(f\"{key}: {value}\")\n",
    "\n",
    "# for key, value in vars(ourEnv).items():\n",
    "#     print(f\"{key}: {value}\")\n",
    "\n",
    "# for key, value in vars(OurViTnet).items():\n",
    "#     print(f\"{key}: {value}\")"
   ]
  },
  {
   "cell_type": "code",
   "execution_count": 15,
   "metadata": {},
   "outputs": [
    {
     "name": "stdout",
     "output_type": "stream",
     "text": [
      "9\n"
     ]
    },
    {
     "data": {
      "image/png": "[encoded data removed]",
      "text/plain": [
       "<Figure size 2500x500 with 5 Axes>"
      ]
     },
     "metadata": {},
     "output_type": "display_data"
    }
   ],
   "source": [
    "## Visualize the patch selection and attention scores for the untrained models.\n",
    "## Use functions defined in viz.py\n",
    "# Select a random set of 5 images from the dataset\n",
    "num_images = 5\n",
    "random_indices = np.random.choice(len(trainset_pure), num_images, replace=False)\n",
    "random_images = [trainset_pure[i][0] for i in random_indices]\n",
    "print(trainset_pure[2][1])\n",
    "random_classes = [classes[trainset_pure[i][1]] for i in random_indices] \n",
    "\n",
    "\n",
    "\n",
    "half_norm_transform = transforms.Compose(\n",
    "    [transforms.Resize((img_size // 2, img_size // 2)), \n",
    "    transforms.Normalize(mean=TinyImageNet.mean, std=TinyImageNet.std)]\n",
    "    )\n",
    "\n",
    "# # Visualize the patch selection and attention scores\n",
    "# for img in random_images:\n",
    "#     if dataset_idx == 0:\n",
    "#         input_img = half_norm_transform(img)\n",
    "#     elif dataset_idx == 1:\n",
    "#         input_img = transforms.ToTensor()(img)\n",
    "#         img = transforms.ToTensor()(img)\n",
    "#     visualize_selected_patches(img, input_img, ourModel.agent, device_our)\n",
    "#     # visualize_attention_scores(img, model.ViTnet, device)\n",
    "\n",
    "random_images = [transforms.ToTensor()(img) for img in random_images]\n",
    "visualize_selected_patches_multiple_images(random_images, random_images, ourModel.agent, device_our, titles=[\"Our Model, class \" + str(random_classes[i]) for i in range(num_images)])\n"
   ]
  },
  {
   "cell_type": "markdown",
   "metadata": {
    "id": "38RJhPQMAaXd"
   },
   "source": [
    "### Training"
   ]
  },
  {
   "cell_type": "code",
   "execution_count": 16,
   "metadata": {
    "colab": {
     "base_uri": "https://localhost:8080/"
    },
    "id": "g81PySpAHgc5",
    "outputId": "816f6100-3fe5-4c0b-ecdf-7acd898ae45d"
   },
   "outputs": [],
   "source": [
    "# BioAgentViT\n",
    "def trainModel(model, models_save_path, model_name, dataset_name):\n",
    "    initial = time.time()\n",
    "    step_reward, selected_patch = model.train_test(models_save_path, dataset_name)\n",
    "    print(f'{model_name} Total Training Time: {time.time()-initial}')\n",
    "\n",
    "def plotTrainingInfo(model, model_name, dataset_name):\n",
    "    # Collect train and validation information\n",
    "    our_train_info = pd.DataFrame(model.train_info())\n",
    "    our_validation_info = pd.DataFrame(model.validation_info())\n",
    "\n",
    "    # Extract loss and accuracy information\n",
    "    our_train_loss = our_train_info['train_loss']\n",
    "    our_validation_loss = our_validation_info['validation_loss']\n",
    "    our_validation_acc = our_validation_info['validation_acc']\n",
    "\n",
    "    # Plotting\n",
    "    fig, axs = plt.subplots(1, 2, figsize=(14, 6))\n",
    "\n",
    "    # Plot training and validation loss\n",
    "    axs[0].plot(range(len(our_train_loss)), our_train_loss, label='Our Model Train Loss')\n",
    "    axs[0].plot(range(len(our_validation_loss)), our_validation_loss, label='Our Model Validation Loss')\n",
    "    axs[0].legend()\n",
    "    axs[0].set_title('Training and Validation Loss for ' + model_name + ' on ' + dataset_name)\n",
    "    axs[0].set_xlabel('Epochs')\n",
    "    axs[0].set_ylabel('Loss')\n",
    "\n",
    "    # Plot validation accuracy\n",
    "    axs[1].plot(range(len(our_validation_acc)), our_validation_acc, label='Our Model Validation Accuracy')\n",
    "    axs[1].legend()\n",
    "    axs[1].set_title('Validation Accuracy for ' + model_name + ' on ' + dataset_name)\n",
    "    axs[1].set_xlabel('Epochs')\n",
    "    axs[1].set_ylabel('Accuracy')\n",
    "\n",
    "    plt.show()"
   ]
  },
  {
   "cell_type": "markdown",
   "metadata": {},
   "source": [
    "#### Question: How does the agent improve in patch selection and in accelerating training if it is trained over multiple ViT training runs, rather than just one?"
   ]
  },
  {
   "cell_type": "code",
   "execution_count": null,
   "metadata": {},
   "outputs": [
    {
     "name": "stdout",
     "output_type": "stream",
     "text": [
      "Epoch: 1/20\n"
     ]
    }
   ],
   "source": [
    "num_iterations = 5\n",
    "\n",
    "# Just run the randomModel once, since it doesn't have a trainable agent (it's just random selection)\n",
    "# print(f\"Iteration {i+1}/{num_iterations}\")\n",
    "trainModel(randomModel, models_save_path, \"Random Model\", dataset_name)\n",
    "plotTrainingInfo(randomModel, \"Random Model\", dataset_name)\n",
    "\n",
    "# Train our model across five iterations, recreating a ViT each time and recreating the DQNAgent.\n",
    "for i in range(num_iterations):\n",
    "    print(f\"Iteration {i+1}/{num_iterations}\")\n",
    "    trainModel(ourModel, models_save_path, \"Our Model\", dataset_name)\n",
    "    plotTrainingInfo(ourModel, \"Our Model\", dataset_name)\n",
    "    # visualize patch selection\n",
    "    visualize_selected_patches_multiple_images(random_images, random_images, ourModel.agent, device_our, titles=[\"Our Model, class \" + str(random_classes[i]) for i in range(num_images)])\n",
    "    # Reassign the ViT model to the agent AND to the environment\n",
    "    # Destroy the old model first\n",
    "    del ourModel.env.ViTnet \n",
    "    del ourModel.ViTnet\n",
    "    del ourModel.env.optimizer\n",
    "    \n",
    "    # Reset the ViT model after training.\n",
    "    # Maintain the DQN for re-training/fine-tuning.\n",
    "    OurViTnet = SimpleAgentViT(\n",
    "    image_size = img_size,\n",
    "    patch_size = patch_size,\n",
    "    num_classes = len(classes),\n",
    "    dim = att_dim,\n",
    "    depth = 6,\n",
    "    heads = 16,\n",
    "    mlp_dim = 512\n",
    ")\n",
    "    \n",
    "    # Send the model to the device (cuda or cpu) \n",
    "    OurViTnet.to(device_our)\n",
    "    \n",
    "    ourModel.ViTnet = OurViTnet\n",
    "    ourModel.env.ViTnet = OurViTnet\n",
    "\n",
    "    # Reassign the optimizer to the new parameters \n",
    "    opt = optim.Adam(OurViTnet.parameters(), lr=learning_rate)\n",
    "    ourModel.optimizer = opt\n",
    "    ourModel.env.optimizer = opt\n",
    "    \n",
    "    \n",
    "# Do the same but for theirModel\n",
    "for i in range(num_iterations):\n",
    "    print(f\"Iteration {i+1}/{num_iterations}\")\n",
    "    trainModel(theirModel, models_save_path, \"Their Model\", dataset_name)\n",
    "    plotTrainingInfo(theirModel, \"Their Model\", dataset_name)\n",
    "    \n",
    "    # Reassign the ViT model to the agent AND to the environment\n",
    "    # Destroy the old model first\n",
    "    del theirModel.ViTnet \n",
    "    del theirModel.env.ViTnet\n",
    "    # del theirModel.optimizer\n",
    "    del theirModel.env.optimizer\n",
    "    \n",
    "    # Reset the ViT model after training.\n",
    "    # Maintain the DQN for re-training/fine-tuning.\n",
    "    theirViTnet = SimpleAgentViT(\n",
    "        image_size = img_size,\n",
    "        patch_size = patch_size,\n",
    "        num_classes = len(classes),\n",
    "        dim = att_dim,\n",
    "        depth = 6,\n",
    "        heads = 16,\n",
    "        mlp_dim = 512\n",
    "    )\n",
    "    # Send the model to the device (cuda or cpu) \n",
    "    theirViTnet.to(device_their)\n",
    "    \n",
    "    theirModel.ViTnet = theirViTnet\n",
    "    theirModel.env.ViTnet = theirViTnet\n",
    "\n",
    "    # Reassign the optimizer to the new parameters \n",
    "    opt = optim.Adam(theirViTnet.parameters(), lr=learning_rate)\n",
    "    # theirModel.optimizer = opt # Evidently, their training agent does not have an optimizer member. Only ours does. But I believe it does not use it, only the rl_env uses it.\n",
    "    theirModel.env.optimizer = opt\n",
    "    \n",
    "# trainModel(ourModel, models_save_path, \"Our Model\", dataset_name)\n",
    "# trainModel(theirModel, models_save_path, \"Their Model\", dataset_name)\n",
    "# trainModel(baselineModel, models_save_path, \"Baseline Model\", dataset_name)\n",
    "\n",
    "\n"
   ]
  },
  {
   "cell_type": "markdown",
   "metadata": {
    "id": "nFrUrs52AXj2"
   },
   "source": [
    "<h3> Train and Validation Information"
   ]
  },
  {
   "cell_type": "code",
   "execution_count": null,
   "metadata": {
    "id": "PkaW5esyAWin"
   },
   "outputs": [],
   "source": [
    "import datetime\n",
    "import os\n",
    "import pandas as pd\n",
    "\n",
    "# Collect train and validation information from each model\n",
    "our_train_info = pd.DataFrame(ourModel.train_info())\n",
    "our_validation_info = pd.DataFrame(ourModel.validation_info())\n",
    "\n",
    "their_train_info = pd.DataFrame(theirModel.train_info())\n",
    "their_validation_info = pd.DataFrame(theirModel.validation_info())\n",
    "\n",
    "baseline_train_info = pd.DataFrame(baselineModel.train_info())\n",
    "baseline_validation_info = pd.DataFrame(baselineModel.validation_info())\n",
    "\n",
    "# Save the training and validation information to the ./results folder\n",
    "results_folder = \"./results\"\n",
    "\n",
    "# Ensure the results folder exists\n",
    "os.makedirs(results_folder, exist_ok=True)\n",
    "\n",
    "# Get the current timestamp\n",
    "timestamp = datetime.datetime.now().strftime(\"%m%d_%H%M\")\n",
    "\n",
    "# Optional user-provided identifier for our model\n",
    "our_model_id = \"default_id\"  # Replace with the actual identifier if provided\n",
    "\n",
    "# Save our model's training and validation info\n",
    "our_train_info.to_csv(os.path.join(results_folder, f\"our_model_train_info_{our_model_id}_{timestamp}.csv\"), index=False)\n",
    "our_validation_info.to_csv(os.path.join(results_folder, f\"our_model_validation_info_{our_model_id}_{timestamp}.csv\"), index=False)\n",
    "\n",
    "# Save their model's training and validation info\n",
    "their_train_info.to_csv(os.path.join(results_folder, f\"their_model_train_info_{timestamp}.csv\"), index=False)\n",
    "their_validation_info.to_csv(os.path.join(results_folder, f\"their_model_validation_info_{timestamp}.csv\"), index=False)\n",
    "\n",
    "# Save baseline model's training and validation info\n",
    "baseline_train_info.to_csv(os.path.join(results_folder, f\"baseline_model_train_info_{timestamp}.csv\"), index=False)\n",
    "baseline_validation_info.to_csv(os.path.join(results_folder, f\"baseline_model_validation_info_{timestamp}.csv\"), index=False)"
   ]
  },
  {
   "cell_type": "markdown",
   "metadata": {
    "id": "LRuW0NCbi57h"
   },
   "source": [
    "### Plot of Results"
   ]
  },
  {
   "cell_type": "markdown",
   "metadata": {
    "id": "PyzpwMapQVbo"
   },
   "source": [
    "<h3> Train/Validation Loss and Train/Val Accuracy Across Epochs"
   ]
  },
  {
   "cell_type": "code",
   "execution_count": null,
   "metadata": {},
   "outputs": [],
   "source": [
    "# Assuming the training and validation information has been collected in the previous cells\n",
    "# and stored in the variables: our_train_info, our_validation_info, their_train_info, their_validation_info, baseline_train_info, baseline_validation_info\n",
    "\n",
    "# Extract loss and accuracy information\n",
    "our_train_loss = our_train_info['train_loss']\n",
    "our_validation_loss = our_validation_info['validation_loss']\n",
    "# our_train_acc = our_train_info['accuracy']\n",
    "our_validation_acc = our_validation_info['validation_acc']\n",
    "\n",
    "their_train_loss = their_train_info['train_loss']\n",
    "their_validation_loss = their_validation_info['validation_loss']\n",
    "# their_train_acc = their_train_info['accuracy']\n",
    "their_validation_acc = their_validation_info['validation_acc']\n",
    "\n",
    "baseline_train_loss = baseline_train_info['train_loss']\n",
    "baseline_validation_loss = baseline_validation_info['validation_loss']\n",
    "# baseline_train_acc = baseline_train_info['accuracy']\n",
    "baseline_validation_acc = baseline_validation_info['validation_acc']\n",
    "\n",
    "# Plotting\n",
    "fig, axs = plt.subplots(1, 2, figsize=(14, 6))\n",
    "\n",
    "# Plot training and validation loss\n",
    "axs[0].plot(range(len(our_train_loss)), our_train_loss, label='Our Model Train Loss')\n",
    "axs[0].plot(range(len(their_train_loss)), their_train_loss, label='Their Model Train Loss')\n",
    "axs[0].plot(range(len(baseline_train_loss)), baseline_train_loss, label='Baseline Model Train Loss')\n",
    "axs[0].plot(range(len(our_validation_loss)), our_validation_loss, label='Our Model Validation Loss')\n",
    "axs[0].plot(range(len(their_validation_loss)), their_validation_loss, label='Their Model Validation Loss')\n",
    "axs[0].plot(range(len(baseline_validation_loss)), baseline_validation_loss, label='Baseline Model Validation Loss')\n",
    "axs[0].legend()\n",
    "axs[0].set_title('Training and Validation Loss')\n",
    "axs[0].set_xlabel('Epochs')\n",
    "axs[0].set_ylabel('Loss')\n",
    "\n",
    "# Plot training and validation accuracy\n",
    "# axs[1].plot(range(len(our_train_acc)), our_train_acc, label='Our Model Train Accuracy')\n",
    "axs[1].plot(range(len(our_validation_acc)), our_validation_acc, label='Our Model Validation Accuracy')\n",
    "# axs[1].plot(range(len(their_train_acc)), their_train_acc, label='Their Model Train Accuracy')\n",
    "axs[1].plot(range(len(their_validation_acc)), their_validation_acc, label='Their Model Validation Accuracy')\n",
    "# axs[1].plot(range(len(baseline_train_acc)), baseline_train_acc, label='Baseline Model Train Accuracy')\n",
    "axs[1].plot(range(len(baseline_validation_acc)), baseline_validation_acc, label='Baseline Model Validation Accuracy')\n",
    "axs[1].legend()\n",
    "axs[1].set_title('Training and Validation Accuracy')\n",
    "axs[1].set_xlabel('Epochs')\n",
    "axs[1].set_ylabel('Accuracy')\n",
    "\n",
    "plt.show()"
   ]
  },
  {
   "cell_type": "markdown",
   "metadata": {
    "id": "bJ6icTgAp8Vb"
   },
   "source": [
    "## Evaluation for different Heuristics"
   ]
  },
  {
   "cell_type": "markdown",
   "metadata": {
    "id": "akTharX5RaL8"
   },
   "source": [
    "### Train"
   ]
  },
  {
   "cell_type": "markdown",
   "metadata": {
    "id": "7mrDXnFLRldw"
   },
   "source": [
    "<h3> All Patches"
   ]
  },
  {
   "cell_type": "code",
   "execution_count": null,
   "metadata": {
    "id": "Qk6xh-DBwAK6"
   },
   "outputs": [],
   "source": [
    "evaluate_agent(OurViTnet, train_loader, device_our, ourEnv)\n",
    "evaluate_agent(SimpleAgentViTnet, train_loader, device_their, theirEnv)\n",
    "evaluate_agent(BaselineSimpleViT, train_loader, device_baseline, ourEnv)\n",
    "# evaluate_agent(ViTnet, train_loader, device, env)"
   ]
  },
  {
   "cell_type": "markdown",
   "metadata": {
    "id": "usZfBwXwRqx-"
   },
   "source": [
    "<h3> Patches Selected By agent"
   ]
  },
  {
   "cell_type": "code",
   "execution_count": null,
   "metadata": {
    "id": "jKZ0-kJENBnT"
   },
   "outputs": [],
   "source": [
    "evaluate_agent(OurViTnet, train_loader, device_our, ourEnv, mode=\"agent\")\n",
    "evaluate_agent(SimpleAgentViTnet, train_loader, device_their, theirEnv, mode=\"agent\")"
   ]
  },
  {
   "cell_type": "markdown",
   "metadata": {
    "id": "g46_tdT9Rtg3"
   },
   "source": [
    "<h3> Random Patches"
   ]
  },
  {
   "cell_type": "code",
   "execution_count": null,
   "metadata": {
    "id": "i-BY6MmuwN8a"
   },
   "outputs": [],
   "source": [
    "evaluate_agent(OurViTnet, train_loader, device_our, ourEnv, mode=\"random\")\n",
    "evaluate_agent(SimpleAgentViTnet, train_loader, device_their, theirEnv, mode=\"random\")"
   ]
  },
  {
   "cell_type": "markdown",
   "metadata": {
    "id": "9VY2VipXRejU"
   },
   "source": [
    "### Validation"
   ]
  },
  {
   "cell_type": "markdown",
   "metadata": {
    "id": "uygahgWaRx2P"
   },
   "source": [
    "<h3> All Patches"
   ]
  },
  {
   "cell_type": "code",
   "execution_count": null,
   "metadata": {
    "id": "ROoB1IPaNGAB"
   },
   "outputs": [],
   "source": [
    "evaluate_agent(OurViTnet, validation_loader, device_our, ourEnv)\n",
    "evaluate_agent(OurViTnet, test_loader, device_our, ourEnv)\n",
    "evaluate_agent(SimpleAgentViTnet, validation_loader, device_their, theirEnv)\n",
    "evaluate_agent(SimpleAgentViTnet, test_loader, device_their, theirEnv)\n",
    "evaluate_agent(BaselineSimpleViT, validation_loader, device_baseline, ourEnv)\n",
    "evaluate_agent(BaselineSimpleViT, test_loader, device_baseline, ourEnv)"
   ]
  },
  {
   "cell_type": "markdown",
   "metadata": {
    "id": "FPKqXZkxRwNO"
   },
   "source": [
    "<h3> Patches Selected By agent"
   ]
  },
  {
   "cell_type": "code",
   "execution_count": null,
   "metadata": {},
   "outputs": [],
   "source": [
    "evaluate_agent(OurViTnet, validation_loader, device_our, ourEnv, mode=\"random\")\n",
    "evaluate_agent(OurViTnet, test_loader, device_our, ourEnv, mode=\"agent\")\n",
    "evaluate_agent(SimpleAgentViTnet, validation_loader, device_their, theirEnv, mode=\"agent\")\n",
    "evaluate_agent(SimpleAgentViTnet, test_loader, device_their, theirEnv, mode=\"agent\")\n",
    "evaluate_agent(BaselineSimpleViT, validation_loader, device_baseline, ourEnv, mode=\"agent\")\n",
    "evaluate_agent(BaselineSimpleViT, test_loader, device_baseline, ourEnv, mode=\"agent\")"
   ]
  },
  {
   "cell_type": "markdown",
   "metadata": {},
   "source": [
    "### Patches Selected at Random"
   ]
  },
  {
   "cell_type": "code",
   "execution_count": null,
   "metadata": {
    "id": "wmkSeWCPNJZg"
   },
   "outputs": [],
   "source": [
    "evaluate_agent(OurViTnet, validation_loader, device_our, ourEnv, mode=\"random\")\n",
    "evaluate_agent(OurViTnet, test_loader, device_our, ourEnv, mode=\"random\")\n",
    "evaluate_agent(SimpleAgentViTnet, validation_loader, device_their, theirEnv, mode=\"random\")\n",
    "evaluate_agent(SimpleAgentViTnet, test_loader, device_their, theirEnv, mode=\"random\")\n",
    "evaluate_agent(BaselineSimpleViT, validation_loader, device_baseline, ourEnv, mode=\"random\")\n",
    "evaluate_agent(BaselineSimpleViT, test_loader, device_baseline, ourEnv, mode=\"random\")"
   ]
  },
  {
   "cell_type": "markdown",
   "metadata": {},
   "source": [
    "## Visualization"
   ]
  },
  {
   "cell_type": "code",
   "execution_count": null,
   "metadata": {},
   "outputs": [],
   "source": [
    "import torch \n",
    "import numpy as np\n",
    "from sklearn.preprocessing import MinMaxScaler\n",
    "import matplotlib.pyplot as plt\n",
    "\n",
    "def get_patch_coordinates(patch_index, patch_size, num_patches_per_row):\n",
    "    row = patch_index // num_patches_per_row\n",
    "    col = patch_index % num_patches_per_row\n",
    "    return row * patch_size , col * patch_size\n",
    "\n",
    "def visualize_selected_patches(image, input_img, model_agent, device):\n",
    "    # model_agent.eval()\n",
    "    with torch.no_grad():\n",
    "        patches = model_agent.select_action(input_img.to(device))\n",
    "        patches = [1 if patch > patches.mean() else 0 for patch in patches]\n",
    "    \n",
    "    patch_size = model_agent.patch_size\n",
    "    fig, ax = plt.subplots(1)\n",
    "    ax.imshow(image.permute(1, 2, 0).cpu().numpy())\n",
    "   \n",
    "    # ax.imshow(image.cpu().numpy())\n",
    "    num_patches_per_row = int(image.size(1) // patch_size)\n",
    "    for i, patch in enumerate(patches):\n",
    "        if patch == 0:\n",
    "            y, x = get_patch_coordinates(i, patch_size, num_patches_per_row)\n",
    "            rect = plt.Rectangle((x-1, y-1), patch_size, patch_size, edgecolor='none', facecolor='gray', alpha=0.9)\n",
    "            # rect = plt.Rectangle((x, y), patch_size, patch_size, edgecolor='r', facecolor='none')\n",
    "            ax.add_patch(rect)\n",
    "    \n",
    "    plt.show()\n",
    "\n",
    "def get_image_with_selected_patches(image, input, model_agent, device):\n",
    "    with torch.no_grad():\n",
    "        patches = model_agent.select_action(input.to(device))\n",
    "        patches = [1 if patch > patches.mean() else 0 for patch in patches]\n",
    "    \n",
    "    patch_size = model_agent.patch_size\n",
    "    num_patches_per_row = int(image.size(1) // patch_size)\n",
    "    \n",
    "    image_np = image.permute(1, 2, 0).cpu().numpy()\n",
    "    for i, patch in enumerate(patches):\n",
    "        if patch == 0:\n",
    "            y, x = get_patch_coordinates(i, patch_size, num_patches_per_row)\n",
    "            # Convert all numbers into integers\n",
    "            y = int(y)\n",
    "            x = int(x)\n",
    "            patch_size = int(patch_size)\n",
    "            image_np[y:y+patch_size, x:x+patch_size] = np.array([0.5, 0.5, 0.5])  # Gray color\n",
    "    \n",
    "    return image_np"
   ]
  },
  {
   "cell_type": "code",
   "execution_count": null,
   "metadata": {},
   "outputs": [],
   "source": [
    "## Visualize the patch selection and attention scores for the untrained models.\n",
    "## Use functions defined in viz.py\n",
    "# Select a random set of 5 images from the dataset\n",
    "num_images = 3\n",
    "random_indices = np.random.choice(len(trainset_pure), num_images, replace=False)\n",
    "random_images = [trainset_pure[i][0] for i in random_indices]\n",
    "\n",
    "\n",
    "\n",
    "half_norm_transform = transforms.Compose(\n",
    "    [transforms.Resize((img_size // 2, img_size // 2)), \n",
    "    transforms.Normalize(mean=TinyImageNet.mean, std=TinyImageNet.std)]\n",
    "    )\n",
    "\n",
    "fig, axs = plt.subplots(num_images, 2, figsize=(10, 15))\n",
    "\n",
    "for i, img in enumerate(random_images):\n",
    "    input_img = half_norm_transform(img)\n",
    "    \n",
    "    our_patches_img = get_image_with_selected_patches(img, input_img, ourModel.agent, device_our)\n",
    "    their_patches_img = get_image_with_selected_patches(img, img, theirModel.agent, device_their)\n",
    "    \n",
    "    axs[i, 0].imshow(our_patches_img)\n",
    "    axs[i, 0].set_title(\"Our Model\")\n",
    "    axs[i, 0].axis('off')\n",
    "    \n",
    "    axs[i, 1].imshow(their_patches_img)\n",
    "    axs[i, 1].set_title(\"Their Model\")\n",
    "    axs[i, 1].axis('off')\n",
    "\n",
    "plt.tight_layout()\n",
    "plt.show()\n",
    "\n",
    "# # Visualize the patch selection and attention scores\n",
    "# for img in random_images:\n",
    "#     input_img = half_norm_transform(img)\n",
    "#     visualize_selected_patches(img, input_img, ourModel.agent, device_our)\n",
    "#     visualize_selected_patches(img, input_img, theirModel.agent, device_their)\n",
    "#     # visualize_attention_scores(img, model.ViTnet, device)"
   ]
  }
 ],
 "metadata": {
  "accelerator": "GPU",
  "colab": {
   "provenance": []
  },
  "kernelspec": {
   "display_name": ".venv",
   "language": "python",
   "name": "python3"
  },
  "language_info": {
   "codemirror_mode": {
    "name": "ipython",
    "version": 3
   },
   "file_extension": ".py",
   "mimetype": "text/x-python",
   "name": "python",
   "nbconvert_exporter": "python",
   "pygments_lexer": "ipython3",
   "version": "3.12.0"
  }
 },
 "nbformat": 4,
 "nbformat_minor": 4
}
